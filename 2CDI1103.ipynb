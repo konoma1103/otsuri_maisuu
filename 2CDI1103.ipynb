{
  "nbformat": 4,
  "nbformat_minor": 0,
  "metadata": {
    "colab": {
      "provenance": []
    },
    "kernelspec": {
      "name": "python3",
      "display_name": "Python 3"
    },
    "language_info": {
      "name": "python"
    }
  },
  "cells": [
    {
      "cell_type": "code",
      "execution_count": 19,
      "metadata": {
        "colab": {
          "base_uri": "https://localhost:8080/"
        },
        "id": "ecEqUyljH0B1",
        "outputId": "918d7678-af32-4aa9-c836-0ba2de73e4ad"
      },
      "outputs": [
        {
          "output_type": "stream",
          "name": "stdout",
          "text": [
            "入れた金額<<1207\n",
            "商品の金額<<400\n",
            "1円単位は対応していません\n"
          ]
        }
      ],
      "source": [
        "n = int(input('入れた金額<<'))\n",
        "x = int(input('商品の金額<<'))\n",
        "coin = [500, 100, 50, 10]        # 対応しているコイン\n",
        "maisu = []\n",
        "\n",
        "otsuri = n - x                   # おつりの金額\n",
        "for i in range(len(coin)):\n",
        "  if n%10 != 0 or x%10 != 0:     # 対応していない金額(1円玉が必要)が入力されたとき用\n",
        "    print('1円単位は対応していません')\n",
        "    break\n",
        "\n",
        "  maisu.append(otsuri // coin[i])\n",
        "  otsuri %= coin[i]\n",
        "  print(f'{coin[i]}円玉{maisu[i]}枚')"
      ]
    }
  ]
}